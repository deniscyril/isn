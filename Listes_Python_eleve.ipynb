{
 "cells": [
  {
   "cell_type": "markdown",
   "metadata": {},
   "source": [
    "\n",
    "\n",
    "#  Les listes en Python\n",
    "\n",
    "**Important** Lisez attentivement ce document, prenez des notes au fur et à mesure sur une feuille de papier. Vous devrez faire une fiche résumé présentant la notion de liste en python.\n",
    "\n",
    "## Premier exemple\n",
    "Dans la cellule de code ci-dessous, recopier et commenter le code suivant:\n",
    "\n",
    "~~~~\n",
    "maliste=['Einstein',3.14159, 2, 'Newton']\n",
    "print(maliste)\n",
    "print(maliste[0])\n",
    "~~~~\n",
    "\n",
    "### Aide\n",
    "\n",
    "- maliste est une variable du type liste. \n",
    "- Elle contient des données rangées dans un ordre, on dit indexé. Les données stockées dans une liste peuvent être de différents types.\n",
    "- Pour rédiger un commentaire dans le code, on commence la ligne par le caractère #\n"
   ]
  },
  {
   "cell_type": "code",
   "execution_count": null,
   "metadata": {},
   "outputs": [],
   "source": [
    "maliste=['Einstein',3.14159, 2, 'Newton']\n",
    "print(maliste)\n",
    "print(maliste[0])\n",
    "maliste[0]='Galois'\n",
    "print(maliste)"
   ]
  },
  {
   "cell_type": "markdown",
   "metadata": {},
   "source": [
    "\n",
    "### Définition \n",
    "Une liste est un ensemble de données indexées. \n",
    "\n",
    "En effet quand on appelle maliste python affiche la liste de toutes les données. Celles-ci sont classées avec un indice de position (qui démarre à 0). \n",
    "\n",
    "\n",
    "### Modification et ajout d'un élément dans une liste\n",
    "\n",
    "Le contenu d'une liste n'est pas figée. On peut **modifier** un élément de la liste.\n",
    "\n",
    "- Tester l'exemple suivant pour comprendre comment modifier un élément d'une liste.\n",
    "\n",
    "~~~\n",
    "maliste[0]='Galois'\n",
    "~~~"
   ]
  },
  {
   "cell_type": "code",
   "execution_count": null,
   "metadata": {},
   "outputs": [],
   "source": []
  },
  {
   "cell_type": "markdown",
   "metadata": {},
   "source": [
    "\n",
    "Ajoutons à notre liste un nouvel élément. En pensant une liste comme variable, on peut essayer:\n",
    "\n",
    "~~~\n",
    "maliste = maliste + 42\n",
    "~~~\n",
    "\n",
    "Testez dans le bloc de code ci-dessous... \n",
    "Essayez à présent\n",
    "\n",
    "~~~\n",
    "maliste = maliste + [42]\n",
    "~~~\n",
    "\n",
    "Questions:\n",
    "\n",
    "1. A votre avis pourquoi les crochets sont nécessaires ?\n",
    "2. Ajouter du code pour afficher le contenu de la liste.\n",
    "3. A quel endroit est ajouter l'élément 42 ?"
   ]
  },
  {
   "cell_type": "code",
   "execution_count": null,
   "metadata": {},
   "outputs": [],
   "source": []
  },
  {
   "cell_type": "markdown",
   "metadata": {},
   "source": [
    "## Méthodes pour les listes\n",
    "### Principe\n",
    "\n",
    "Les méthodes sont comme des supers pouvoirs que possèdent les listes. Plus précisement, il s'agit de fonction que l'on peut utiliser et qui sont exécutable pour toutes les listes. Il suffit d'ajouter un mot clé après le nom de la variable.\n",
    "\n",
    "Plus précisement, on dit que les listes sont des **objets** et qu'elles sont munies de **méthodes** que le programmeur peut appeler.\n",
    "\n",
    "### Méthode append\n",
    "\n",
    "La méthode append va ajouter un élément à la fin de la liste. Le résultat est identique au code donné plus haut. Résultat identique, mais la démarche est très différente: on appelle la méthode **append** sur l'objet maliste.\n",
    "\n",
    "Tester le code suivant:\n",
    "\n",
    "~~~~\n",
    "#on crée maliste est 4 premiers éléments\n",
    "maliste=['Einstein',3.14159, 2, 'Newton']\n",
    "#on ajoute un \n",
    "maliste.append(43)\n",
    "\n",
    "~~~~"
   ]
  },
  {
   "cell_type": "code",
   "execution_count": null,
   "metadata": {},
   "outputs": [],
   "source": []
  },
  {
   "cell_type": "markdown",
   "metadata": {},
   "source": [
    "## Copie d'une liste\n",
    "\n",
    "Nous allons voir qu'on ne copie pas une liste comme on peut copier une variable de type entier, flottant ou chaine.\n",
    "\n",
    "Dans l'exemple ci-dessous, on dispose d'une première liste: **uneliste** qui contient les éléments 3, 5 et 1. On souhaite garder une copie en mémoire de **uneliste** pour cela on utilise une autre liste: **copieliste**. "
   ]
  },
  {
   "cell_type": "code",
   "execution_count": null,
   "metadata": {},
   "outputs": [],
   "source": [
    "uneliste = [3,5,1]\n",
    "copieliste = uneliste\n",
    "uneliste[0]=4\n",
    "print(uneliste)\n",
    "print(copieliste)"
   ]
  },
  {
   "cell_type": "markdown",
   "metadata": {},
   "source": [
    "1. Expliquez pourquoi la ligne \n",
    "copieliste = uneliste\n",
    "n'est pas satisfaisante pour faire une copie sûre des éléments **uneliste**.\n",
    "2. Modifier le code en remplaçant la ligne qui pose problème par:\n",
    "copieliste = liste(uneliste)\n",
    "Exécuter à nouveau le code"
   ]
  },
  {
   "cell_type": "code",
   "execution_count": null,
   "metadata": {},
   "outputs": [],
   "source": []
  },
  {
   "cell_type": "markdown",
   "metadata": {},
   "source": [
    "### Méthode remove\n",
    "\n",
    "La méthode remove permet de supprimer un élément. \n",
    "\n",
    "1. Expérimenter le code suivant:\n",
    "~~~\n",
    "maliste = [1, 2, 3, 4, 5]\n",
    "maliste.remove(1) \n",
    "print maliste\n",
    "~~~\n",
    "\n",
    "2. Rédiger la documentation de la méthode remove. Vous devez expliquer ce qu'elle fait et comment s'en servir. \n"
   ]
  },
  {
   "cell_type": "code",
   "execution_count": null,
   "metadata": {},
   "outputs": [],
   "source": []
  },
  {
   "cell_type": "markdown",
   "metadata": {},
   "source": [
    "### Méthode Sort : Le tri immédiat\n",
    "\n",
    "Parfois on a besoin de trier les éléments contenus dans une liste. Voici comment on peut faire: \n",
    "\n",
    "~~~\n",
    "maliste = [3, 1, 4, 2, 5]\n",
    "maliste.sort()\n",
    "print liste\n",
    "~~~\n",
    "\n",
    "~~~\n",
    "maliste = [3, 1, 4, 2, 5]\n",
    "maliste.sort(reverse=True)\n",
    "print maliste\n",
    "~~~\n",
    "\n"
   ]
  },
  {
   "cell_type": "code",
   "execution_count": null,
   "metadata": {},
   "outputs": [],
   "source": []
  },
  {
   "cell_type": "markdown",
   "metadata": {},
   "source": [
    "## Compléments: Liste en compréhension (facultatifs en première lecture)\n",
    " \n",
    "\n",
    "On peut à partir d'une liste générer une autre liste de façon \"intelligente\" par exemple à partir d'une liste contenant les entiers 0, 1, 2, 3, 4 on va générer les nombres 0, 3, 6, 9, 12. \n",
    "\n",
    "~~~\n",
    "\n",
    "liste_initiale = [0,1,2,3,4]\n",
    "liste_triple = [3*nb for nb in liste_intiale]\n",
    "print liste_triple\n",
    "~~~\n",
    "\n",
    "Cette technique qui consiste à parcourir une liste en en revoyant une autre modifiée s'appelle *la compréhension de liste* (list comprehensions en anglais)\n",
    "\n",
    "On peut ajouter un test afin de filtrer certains éléments présents dans liste_initiale. Par exemple, on peut extraire les éléments pairs.\n",
    "\n",
    "~~~\n",
    "liste_initiale = [0,1,2,3,4]\n",
    "liste_nb_paire = [nb for nb in liste_intiale if nb%2==0] \"\"\"nb parcourt liste_initiale éléments après éléments, si cet élément est pair, on le stocke dans liste_nbpaire\"\"\"\n",
    "print liste_nb_paire\n",
    "~~~"
   ]
  },
  {
   "cell_type": "code",
   "execution_count": null,
   "metadata": {},
   "outputs": [],
   "source": []
  },
  {
   "cell_type": "markdown",
   "metadata": {},
   "source": [
    "## Avis de recherche \n",
    "\n",
    "### Parcourir les éléments du liste\n",
    "\n",
    "1. Créer une liste qui se nomme bricabrac et qui contient les éléments: \"Martin\" ; 180 ; 3.14 ; \"Julie\" ; 5 et 9\n",
    "2. Recopier et exécuter le code suivant (Attention à l'indentation de la ligne avec print):\n",
    "~~~\n",
    "for element in bricabrac :\n",
    "\tprint(element)\n",
    "~~~\n",
    "3. Expliquer le rôle de la variable element dans le code précédent."
   ]
  },
  {
   "cell_type": "code",
   "execution_count": null,
   "metadata": {},
   "outputs": [],
   "source": []
  },
  {
   "cell_type": "markdown",
   "metadata": {},
   "source": [
    "Réponse à la question 3:\n"
   ]
  },
  {
   "cell_type": "markdown",
   "metadata": {},
   "source": [
    "### Exo 1\n",
    "\n",
    "Créer une varaible *liste_de_courses* qui contient les éléments: \"pain\", \"beurre\", \"lait\", \"café\".\n",
    "\n",
    "1. Afficher élément par élément le contenu de *liste_de_courses*.\n",
    "2. Créer une liste de prix pour chaque article et afficher la liste des articles avec son prix.\n",
    "3. *facultatif* Créer une liste quantité qui donne la quantité de chaque article. Le programme calcule le prix à payer pour les achats."
   ]
  },
  {
   "cell_type": "code",
   "execution_count": null,
   "metadata": {},
   "outputs": [],
   "source": []
  },
  {
   "cell_type": "markdown",
   "metadata": {},
   "source": [
    "### Exo 2\n",
    "\n",
    "On dispose d'une liste nommée *nom* contenant \"chat\", \"chien\" et \"renard\" et d'une liste nommée *adj* contenant les adjectifs : \"grand\", \"petit\", \"sauvage\". \n",
    "Proposer un programme permettant d'afficher toutes les combinaisons associant un nom avec un adjectif."
   ]
  },
  {
   "cell_type": "code",
   "execution_count": null,
   "metadata": {},
   "outputs": [],
   "source": []
  },
  {
   "cell_type": "markdown",
   "metadata": {},
   "source": [
    "### Exo 3\n",
    "1. Reprendre le code sur la liste de course et ajouter à la demande de l'utilisateur des articles.\n",
    "2. *facultatif* modifier le code pour que ce soit l'utilisateur qui rentre sa liste de course avec les quantités complètement. L'ordinateur calcule le prix des achats."
   ]
  },
  {
   "cell_type": "code",
   "execution_count": null,
   "metadata": {},
   "outputs": [],
   "source": []
  },
  {
   "cell_type": "code",
   "execution_count": null,
   "metadata": {},
   "outputs": [],
   "source": []
  }
 ],
 "metadata": {
  "kernelspec": {
   "display_name": "Python 3",
   "language": "python",
   "name": "python3"
  },
  "language_info": {
   "codemirror_mode": {
    "name": "ipython",
    "version": 3
   },
   "file_extension": ".py",
   "mimetype": "text/x-python",
   "name": "python",
   "nbconvert_exporter": "python",
   "pygments_lexer": "ipython3",
   "version": "3.6.6"
  }
 },
 "nbformat": 4,
 "nbformat_minor": 2
}
